{
 "cells": [
  {
   "cell_type": "markdown",
   "metadata": {},
   "source": [
    "# K Nearest Neighbours (KNN)"
   ]
  },
  {
   "cell_type": "code",
   "execution_count": 1,
   "metadata": {},
   "outputs": [],
   "source": [
    "# Imports \n",
    "import numpy as np\n",
    "import matplotlib.pyplot as plt\n",
    "import seaborn as sns\n",
    "plt.style.use('seaborn')\n",
    "\n",
    "from scipy import stats\n",
    "from sklearn.datasets import make_classification, make_blobs\n",
    "from sklearn.model_selection import train_test_split"
   ]
  },
  {
   "cell_type": "markdown",
   "metadata": {},
   "source": [
    "## Distance computation"
   ]
  },
  {
   "cell_type": "code",
   "execution_count": 2,
   "metadata": {},
   "outputs": [],
   "source": [
    "def euclidean_distance(x1, x2):\n",
    "    '''Computes Euclidean distance between two points x1 and x2\n",
    "    \n",
    "    Args:\n",
    "        x1: Point 1\n",
    "        x2: Point 2\n",
    "\n",
    "    returns:\n",
    "        dist: Euclidean distance\n",
    "    '''\n",
    "    dist = np.sum((x1 -x2)**2, axis = 1)\n",
    "    return dist\n",
    "\n",
    "def manhattan_distance(x1, x2):\n",
    "    '''Computes Manhattan distance between two points x1 and x2\n",
    "    \n",
    "    Args:\n",
    "        x1: Point 1\n",
    "        x2: Point 2\n",
    "\n",
    "    returns:\n",
    "        dist: Manhattan distance\n",
    "    '''\n",
    "    dist = np.sum(np.abs(x1 -x2), axis = 1)\n",
    "    return dist"
   ]
  },
  {
   "cell_type": "markdown",
   "metadata": {},
   "source": [
    "## KNN Implementation"
   ]
  },
  {
   "cell_type": "code",
   "execution_count": 4,
   "metadata": {},
   "outputs": [],
   "source": [
    "class KNN:\n",
    "    def __init__(self, k, distance_metric = euclidean_distance, task_type = \"Classification\"):\n",
    "\n",
    "        self._k = k\n",
    "        self._distance_metric = distance_metric\n",
    "        self._task_type = task_type\n",
    "\n",
    "    def fit(self, X, y):\n",
    "        ''' Stores training data for KNN\n",
    "        Args:\n",
    "            X: Feature matrix\n",
    "            y: labels\n",
    "        \n",
    "        Returns:\n",
    "             ------------\n",
    "        '''\n",
    "        self._X = X\n",
    "        self._y = y\n",
    "\n",
    "    def predict(self, new_example):\n",
    "        '''Predict the class labels for a new example supplied\n",
    "        Args:\n",
    "            new_example: New examples\n",
    "\n",
    "        Returns:\n",
    "            label: Predicted labels for new_example\n",
    "            knn_indices: Indices of K nearest neighbours\n",
    "        '''\n",
    "\n",
    "        distance_vector  = self._distance_metric(self._X, new_example)\n",
    "\n",
    "        knn_indices = np.argpartition(distance_vector, self._k)[:self._k]\n",
    "\n",
    "        knn = self.y[knn_indices]\n",
    "\n",
    "        if self._task_type == 'Classification':\n",
    "            label = stats.mode(knn)[0]\n",
    "\n",
    "        else:\n",
    "            label = knn.mean()\n",
    "\n",
    "        return label, knn_indices\n",
    "\n",
    "    def eval(self, X_test, y_test):\n",
    "        '''Evaluates KNN\n",
    "        Args:\n",
    "            X_test: feature matrix\n",
    "            y_test: labels\n",
    "\n",
    "        Returns:\n",
    "            Misclassification error\n",
    "        '''\n",
    "        if self._task_type == 'Classification':\n",
    "            y_pred = np.zeros(y_test.shape)\n",
    "            for i in range(y_test.shape[0]):\n",
    "                y_pred[i], _ = self.predict(X_test[i,:]) \n",
    "            error = np.mean(y_test == y_pred, axis = 0)\n",
    "        else:\n",
    "            y_pred = np.zeros(y_test.shape)\n",
    "            for i in range(y_test.shape[0]):\n",
    "                y_pred[i], _ = self.predict(X_test[i,:]) \n",
    "            error_vector = y_pred - y_test\n",
    "            error = np.sqrt((error_vector.T @ error_vector)/ error_vector.ravel().shape[0])\n",
    "\n",
    "        return error"
   ]
  },
  {
   "cell_type": "code",
   "execution_count": null,
   "metadata": {},
   "outputs": [],
   "source": []
  }
 ],
 "metadata": {
  "kernelspec": {
   "display_name": "Python 3.10.2 64-bit",
   "language": "python",
   "name": "python3"
  },
  "language_info": {
   "codemirror_mode": {
    "name": "ipython",
    "version": 3
   },
   "file_extension": ".py",
   "mimetype": "text/x-python",
   "name": "python",
   "nbconvert_exporter": "python",
   "pygments_lexer": "ipython3",
   "version": "3.10.2"
  },
  "orig_nbformat": 4,
  "vscode": {
   "interpreter": {
    "hash": "369f2c481f4da34e4445cda3fffd2e751bd1c4d706f27375911949ba6bb62e1c"
   }
  }
 },
 "nbformat": 4,
 "nbformat_minor": 2
}
