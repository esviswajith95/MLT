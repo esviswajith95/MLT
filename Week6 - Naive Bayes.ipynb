{
 "cells": [
  {
   "cell_type": "markdown",
   "metadata": {},
   "source": [
    "# Naive Bayes"
   ]
  },
  {
   "cell_type": "code",
   "execution_count": 1,
   "metadata": {},
   "outputs": [],
   "source": [
    "#Imports\n",
    "\n",
    "import numpy as np"
   ]
  },
  {
   "cell_type": "markdown",
   "metadata": {},
   "source": [
    "## Benoulli NB: Implementation"
   ]
  },
  {
   "cell_type": "code",
   "execution_count": 8,
   "metadata": {},
   "outputs": [],
   "source": [
    "class BernoulliNB(object):\n",
    "\n",
    "    def __init__(self, alpha=1.0):\n",
    "        self.alpha = alpha\n",
    "\n",
    "    def fit(self, X, y):\n",
    "        '''Estimates parameters for Bernoulli NB\n",
    "        Args:\n",
    "            X: Feature matrix of shape (n,m)\n",
    "            y: Label vector of shape (n,)\n",
    "\n",
    "        Returns:\n",
    "            w_{j y_c}, w_prior\n",
    "        '''\n",
    "        n_samples, n_features = X.shape\n",
    "        class_count = np.unique(y)\n",
    "        n_classes = len(class_count)\n",
    "\n",
    "        #Initialise the weight vector\n",
    "        self.w = np.zeros((n_classes, n_features), dtype=np.float64)\n",
    "        self.w_priors = np.zeros(n_classes, dtype=np.float64)\n",
    "\n",
    "        for c in range(n_classes):# Processing samples for each class seperately\n",
    "        \n",
    "            # Get example with label = c\n",
    "            X_c = X[y == c]\n",
    "\n",
    "            ## Estimating w_{j y_c} = P(x_j | y_c = c) \n",
    "            self.w[c, :] = (np.sum(X_c, axis=0) + self.alpha)/(X_c.shape[0] + 2.0 * self.alpha)\n",
    "\n",
    "            # Estimating prior\n",
    "            self.w_priors[c] = (X_c.shape[0] + self.alpha)/(float(n_samples) + n_classes * self.alpha)\n",
    "\n",
    "        print(\"Class conditional density: \", self.w)\n",
    "        print(\"Prior: \", self.w_priors)\n",
    "\n",
    "    def log_likelihood_prior_prod(self, X):\n",
    "        return X @(np.log(self.w).T) + (1 - X) @ (np.log((1 - self.w)).T) + np.log(self.w_priors)\n",
    "\n",
    "    def predict_proba(self, X):\n",
    "        q = self.log_likelihood_prior_prod(X)\n",
    "        return np.exp(q) / np.expand_dims(np.sum(np.exp(q), axis=1), axis = 1)\n",
    "    \n",
    "    def predict(self, X):\n",
    "        return np.argmax(self.log_likelihood_prior_prod(X), axis=1)\n"
   ]
  },
  {
   "cell_type": "markdown",
   "metadata": {},
   "source": [
    "## Demo"
   ]
  },
  {
   "cell_type": "markdown",
   "metadata": {},
   "source": [
    "### Binary labels"
   ]
  },
  {
   "cell_type": "code",
   "execution_count": 9,
   "metadata": {},
   "outputs": [],
   "source": [
    "X = np.array([[1,0], [0,1], [0,1], [1,0]])\n",
    "y = np.array([1, 0, 0, 1])"
   ]
  },
  {
   "cell_type": "code",
   "execution_count": 10,
   "metadata": {},
   "outputs": [
    {
     "name": "stdout",
     "output_type": "stream",
     "text": [
      "Class conditional density:  [[0.25 0.75]\n",
      " [0.75 0.25]]\n",
      "Prior:  [0.5 0.5]\n"
     ]
    }
   ],
   "source": [
    "bernoulli_nb = BernoulliNB()\n",
    "bernoulli_nb.fit(X, y)"
   ]
  },
  {
   "cell_type": "code",
   "execution_count": 11,
   "metadata": {},
   "outputs": [
    {
     "data": {
      "text/plain": [
       "array([1, 0, 0, 1], dtype=int64)"
      ]
     },
     "execution_count": 11,
     "metadata": {},
     "output_type": "execute_result"
    }
   ],
   "source": [
    "bernoulli_nb.predict(X)"
   ]
  },
  {
   "cell_type": "code",
   "execution_count": 12,
   "metadata": {},
   "outputs": [
    {
     "data": {
      "text/plain": [
       "array([[-3.4657359 , -1.26851133],\n",
       "       [-1.26851133, -3.4657359 ],\n",
       "       [-1.26851133, -3.4657359 ],\n",
       "       [-3.4657359 , -1.26851133]])"
      ]
     },
     "execution_count": 12,
     "metadata": {},
     "output_type": "execute_result"
    }
   ],
   "source": [
    "bernoulli_nb.log_likelihood_prior_prod(X)"
   ]
  },
  {
   "cell_type": "code",
   "execution_count": 13,
   "metadata": {},
   "outputs": [
    {
     "data": {
      "text/plain": [
       "array([[0.1, 0.9],\n",
       "       [0.9, 0.1],\n",
       "       [0.9, 0.1],\n",
       "       [0.1, 0.9]])"
      ]
     },
     "execution_count": 13,
     "metadata": {},
     "output_type": "execute_result"
    }
   ],
   "source": [
    "bernoulli_nb.predict_proba(X)"
   ]
  },
  {
   "cell_type": "markdown",
   "metadata": {},
   "source": [
    "### Multiclass setup"
   ]
  },
  {
   "cell_type": "code",
   "execution_count": 14,
   "metadata": {},
   "outputs": [],
   "source": [
    "X = np.array([[1,0], [0,1], [0,1], [1,0], [1, 1], [1, 1]])\n",
    "y = np.array([1, 0, 0, 1, 2, 2])"
   ]
  },
  {
   "cell_type": "code",
   "execution_count": 15,
   "metadata": {},
   "outputs": [
    {
     "name": "stdout",
     "output_type": "stream",
     "text": [
      "Class conditional density:  [[0.25 0.75]\n",
      " [0.75 0.25]\n",
      " [0.75 0.75]]\n",
      "Prior:  [0.33333333 0.33333333 0.33333333]\n"
     ]
    }
   ],
   "source": [
    "bernoulli_nb = BernoulliNB()\n",
    "bernoulli_nb.fit(X, y)"
   ]
  },
  {
   "cell_type": "code",
   "execution_count": 16,
   "metadata": {},
   "outputs": [
    {
     "data": {
      "text/plain": [
       "array([1, 0, 0, 1, 2, 2], dtype=int64)"
      ]
     },
     "execution_count": 16,
     "metadata": {},
     "output_type": "execute_result"
    }
   ],
   "source": [
    "bernoulli_nb.predict(X)"
   ]
  },
  {
   "cell_type": "code",
   "execution_count": 17,
   "metadata": {},
   "outputs": [
    {
     "data": {
      "text/plain": [
       "array([[-3.87120101, -1.67397643, -2.77258872],\n",
       "       [-1.67397643, -3.87120101, -2.77258872],\n",
       "       [-1.67397643, -3.87120101, -2.77258872],\n",
       "       [-3.87120101, -1.67397643, -2.77258872],\n",
       "       [-2.77258872, -2.77258872, -1.67397643],\n",
       "       [-2.77258872, -2.77258872, -1.67397643]])"
      ]
     },
     "execution_count": 17,
     "metadata": {},
     "output_type": "execute_result"
    }
   ],
   "source": [
    "bernoulli_nb.log_likelihood_prior_prod(X)"
   ]
  },
  {
   "cell_type": "code",
   "execution_count": 18,
   "metadata": {},
   "outputs": [
    {
     "data": {
      "text/plain": [
       "array([[0.07692308, 0.69230769, 0.23076923],\n",
       "       [0.69230769, 0.07692308, 0.23076923],\n",
       "       [0.69230769, 0.07692308, 0.23076923],\n",
       "       [0.07692308, 0.69230769, 0.23076923],\n",
       "       [0.2       , 0.2       , 0.6       ],\n",
       "       [0.2       , 0.2       , 0.6       ]])"
      ]
     },
     "execution_count": 18,
     "metadata": {},
     "output_type": "execute_result"
    }
   ],
   "source": [
    "bernoulli_nb.predict_proba(X)"
   ]
  },
  {
   "cell_type": "markdown",
   "metadata": {},
   "source": [
    "## Gaussian NB: Implementation"
   ]
  },
  {
   "cell_type": "code",
   "execution_count": 30,
   "metadata": {},
   "outputs": [],
   "source": [
    "class GaussianNB(object):\n",
    "    def fit(self, X, y):\n",
    "        '''Parameter estimation for Gaussian NB'''\n",
    "\n",
    "        n_samples, n_features = X.shape\n",
    "        self._classes = np.unique(y)\n",
    "        n_classes = len(self._classes)\n",
    "\n",
    "        # Initialise mean, var, and prior for each class.\n",
    "        self._mean = np.zeros((n_classes, n_features), dtype=np.float64)\n",
    "        self._var = np.zeros((n_classes, n_features), dtype=np.float64)\n",
    "        self._priors = np.zeros(n_classes, dtype=np.float64)\n",
    "\n",
    "        for idx, c in enumerate(self._classes):\n",
    "\n",
    "            #Get examples with label y=c\n",
    "            X_c = X[y == c]\n",
    "\n",
    "            #Estimate mean from the training examples of class c.\n",
    "            self._mean[idx, :] = X_c.mean(axis=0)\n",
    "\n",
    "            #Estimate variance from the training examples of class c.\n",
    "            self._var[idx, :] = X_c.var(axis=0)\n",
    "\n",
    "            #Estimate priors.\n",
    "            self._priors[idx] = X_c.shape[0] / float(n_samples)\n",
    "\n",
    "        print(\"Mean: \", self._mean)\n",
    "        print(\"Variance: \", self._var)\n",
    "        print(\"Priors: \", self._priors)\n",
    "\n",
    "    def _calc_pdf(self, class_idx, X):\n",
    "        '''Calculates probability density for samples for class label class_idx'''\n",
    "\n",
    "        mean = self._mean[class_idx]\n",
    "        var = np.diag(self._var[class_idx])\n",
    "        z = np.power(2 * np.pi, X.shape[0]/2) * np.power(np.linalg.det(var), 1/2)\n",
    "        return (1/z) * np.exp(-(1/2)*(X - mean).T @ (np.linalg.inv(var)) @ (X - mean))\n",
    "\n",
    "    def _calc_prod_likelihood_prior(self, X):\n",
    "        '''Calculates product of likelihood and priors.'''\n",
    "\n",
    "        self._prod_likelihood_prior = np.zeros((X.shape[0], len(self._classes)), dtype=np.float64)\n",
    "\n",
    "        for x_idx, x in enumerate(X):\n",
    "            for idx, c in enumerate(self._classes):\n",
    "                self._prod_likelihood_prior[x_idx, c] = (np.log(self._calc_pdf(idx, x)) + np.log(self._priors[idx]))\n",
    "\n",
    "    def predict(self, X):\n",
    "        '''Predicts class labels for each example'''\n",
    "        \n",
    "        self._calc_prod_likelihood_prior(X)\n",
    "\n",
    "        return np.argmax(self._prod_likelihood_prior, axis=1)\n",
    "\n",
    "    def predict_proba(self, X):\n",
    "        '''Calculates probability of each example belonging to different classes.'''\n",
    "\n",
    "        self._calc_prod_likelihood_prior(X)\n",
    "\n",
    "        return np.exp(self._prod_likelihood_prior) / np.expand_dims(np.sum(np.exp(self._prod_likelihood_prior), axis = 1), axis = 1)"
   ]
  },
  {
   "cell_type": "markdown",
   "metadata": {},
   "source": [
    "## Demo\n"
   ]
  },
  {
   "cell_type": "markdown",
   "metadata": {},
   "source": [
    "### Binary classification"
   ]
  },
  {
   "cell_type": "code",
   "execution_count": 31,
   "metadata": {},
   "outputs": [],
   "source": [
    "from sklearn.datasets import make_classification, make_blobs\n",
    "from sklearn.model_selection import train_test_split\n",
    "\n",
    "# Generate data points\n",
    "X, y = make_blobs(n_samples = 100,\n",
    "                n_features=2,\n",
    "                centers=[[5,5],[10,10]],\n",
    "                cluster_std=1.5,\n",
    "                random_state=2)\n",
    "\n",
    "X_train, X_test, y_train, y_test = train_test_split(X, y, test_size=0.2, random_state=123)"
   ]
  },
  {
   "cell_type": "code",
   "execution_count": 32,
   "metadata": {},
   "outputs": [
    {
     "name": "stdout",
     "output_type": "stream",
     "text": [
      "Mean:  [[ 4.55853975  5.01739665]\n",
      " [10.30431548 10.08580617]]\n",
      "Variance:  [[2.13298417 2.30222002]\n",
      " [3.22242307 2.20662074]]\n",
      "Priors:  [0.5125 0.4875]\n"
     ]
    }
   ],
   "source": [
    "gaussian_nb = GaussianNB()\n",
    "gaussian_nb.fit(X_train, y_train)"
   ]
  },
  {
   "cell_type": "code",
   "execution_count": 33,
   "metadata": {},
   "outputs": [
    {
     "data": {
      "image/png": "[encoded data removed]",
      "text/plain": [
       "<Figure size 432x288 with 1 Axes>"
      ]
     },
     "metadata": {
      "needs_background": "light"
     },
     "output_type": "display_data"
    }
   ],
   "source": [
    "import matplotlib.pyplot as plt\n",
    "import seaborn as sns\n",
    "\n",
    "fig, ax = plt.subplots()\n",
    "ax.scatter(X[:, 0], X[:, 1], c=y, s=50, cmap='RdBu')\n",
    "\n",
    "xlim = (min(X[:, 0]) - 2, max(X[:, 0]) + 2 )\n",
    "ylim = (min(X[:, 1]) - 2, max(X[:, 1]) + 2 )\n",
    "\n",
    "xg = np.linspace(xlim[0], xlim[1], 60)\n",
    "yg = np.linspace(ylim[0], ylim[1], 40)\n",
    "xx, yy = np.meshgrid(xg, yg)\n",
    "Xgrid = np.vstack([xx.ravel(), yy.ravel()]).T\n",
    "\n",
    "for label, color in enumerate(['red', 'blue']):\n",
    "    mask = (y == label)\n",
    "    mu, std = X[mask].mean(0), X[mask].std(0)\n",
    "    P = np.exp(-0.5 * (Xgrid - mu)**2 / std**2).prod(1)\n",
    "    Pm = np.ma.masked_array(P, P < 0.03)\n",
    "    ax.pcolorfast(xg, yg, Pm.reshape(xx.shape), alpha=0.5, cmap=color.title() + 's')\n",
    "    ax.contour(xx, yy, P.reshape(xx.shape), levels=[0.01, 0.1, 0.5, 0.9], colors = color, alpha=0.2)\n",
    "\n",
    "ax.set(xlim=xlim, ylim=ylim)\n",
    "\n",
    "plt.title('Gaussian distribution of data')\n",
    "plt.show()"
   ]
  },
  {
   "cell_type": "code",
   "execution_count": 34,
   "metadata": {},
   "outputs": [
    {
     "data": {
      "text/plain": [
       "array([0, 1, 1, 0, 1, 0, 0, 0, 1, 1, 0, 0, 0, 1, 1, 1, 1, 1, 1, 0],\n",
       "      dtype=int64)"
      ]
     },
     "execution_count": 34,
     "metadata": {},
     "output_type": "execute_result"
    }
   ],
   "source": [
    "gaussian_nb.predict(X_test)"
   ]
  },
  {
   "cell_type": "code",
   "execution_count": 35,
   "metadata": {},
   "outputs": [
    {
     "name": "stdout",
     "output_type": "stream",
     "text": [
      "              precision    recall  f1-score   support\n",
      "\n",
      "           0       1.00      1.00      1.00         9\n",
      "           1       1.00      1.00      1.00        11\n",
      "\n",
      "    accuracy                           1.00        20\n",
      "   macro avg       1.00      1.00      1.00        20\n",
      "weighted avg       1.00      1.00      1.00        20\n",
      "\n"
     ]
    }
   ],
   "source": [
    "from sklearn.metrics import classification_report\n",
    "print(classification_report(y_test, gaussian_nb.predict(X_test)))"
   ]
  },
  {
   "cell_type": "code",
   "execution_count": 36,
   "metadata": {},
   "outputs": [
    {
     "data": {
      "text/plain": [
       "array([[9.99999746e-01, 2.54140753e-07],\n",
       "       [7.63749214e-14, 1.00000000e+00],\n",
       "       [4.23038642e-03, 9.95769614e-01],\n",
       "       [9.99986614e-01, 1.33855473e-05],\n",
       "       [7.05769182e-06, 9.99992942e-01],\n",
       "       [9.99820566e-01, 1.79433743e-04],\n",
       "       [9.72541524e-01, 2.74584756e-02],\n",
       "       [9.99982043e-01, 1.79572091e-05],\n",
       "       [2.85910189e-05, 9.99971409e-01],\n",
       "       [1.01888837e-07, 9.99999898e-01],\n",
       "       [7.39129058e-01, 2.60870942e-01],\n",
       "       [9.99793438e-01, 2.06561658e-04],\n",
       "       [9.99999915e-01, 8.46737165e-08],\n",
       "       [2.03213294e-05, 9.99979679e-01],\n",
       "       [8.76198350e-09, 9.99999991e-01],\n",
       "       [6.51163513e-05, 9.99934884e-01],\n",
       "       [9.27638525e-05, 9.99907236e-01],\n",
       "       [7.58034673e-09, 9.99999992e-01],\n",
       "       [1.81773339e-03, 9.98182267e-01],\n",
       "       [9.99985544e-01, 1.44557945e-05]])"
      ]
     },
     "execution_count": 36,
     "metadata": {},
     "output_type": "execute_result"
    }
   ],
   "source": [
    "gaussian_nb.predict_proba(X_test)"
   ]
  },
  {
   "cell_type": "markdown",
   "metadata": {},
   "source": [
    "### Multiclass classification"
   ]
  },
  {
   "cell_type": "code",
   "execution_count": 37,
   "metadata": {},
   "outputs": [],
   "source": [
    "X, y = make_blobs(n_samples = 100,\n",
    "                    n_features =2,\n",
    "                    centers = [[5,5], [10,10], [20,20]],\n",
    "                    cluster_std = 1.5,\n",
    "                    random_state=3)\n",
    "\n",
    "X_train, X_test, y_train, y_test = train_test_split(X, y, test_size=0.2, random_state=123)"
   ]
  },
  {
   "cell_type": "code",
   "execution_count": 39,
   "metadata": {},
   "outputs": [
    {
     "name": "stdout",
     "output_type": "stream",
     "text": [
      "Mean:  [[ 4.94844927  4.67947138]\n",
      " [ 9.62097704 10.49990402]\n",
      " [19.63832097 19.94706375]]\n",
      "Variance:  [[1.99332345 2.36976247]\n",
      " [1.68415535 2.25596351]\n",
      " [1.79203315 1.24939267]]\n",
      "Priors:  [0.3375 0.35   0.3125]\n"
     ]
    }
   ],
   "source": [
    "gaussian_nb_mc = GaussianNB()\n",
    "gaussian_nb_mc.fit(X_train, y_train)"
   ]
  },
  {
   "cell_type": "code",
   "execution_count": 40,
   "metadata": {},
   "outputs": [
    {
     "name": "stdout",
     "output_type": "stream",
     "text": [
      "              precision    recall  f1-score   support\n",
      "\n",
      "           0       1.00      1.00      1.00         7\n",
      "           1       1.00      1.00      1.00         5\n",
      "           2       1.00      1.00      1.00         8\n",
      "\n",
      "    accuracy                           1.00        20\n",
      "   macro avg       1.00      1.00      1.00        20\n",
      "weighted avg       1.00      1.00      1.00        20\n",
      "\n"
     ]
    }
   ],
   "source": [
    "print(classification_report(y_test, gaussian_nb_mc.predict(X_test)))"
   ]
  },
  {
   "cell_type": "code",
   "execution_count": 41,
   "metadata": {},
   "outputs": [
    {
     "data": {
      "text/plain": [
       "array([[1.02996770e-47, 2.67740135e-24, 1.00000000e+00],\n",
       "       [5.00111567e-05, 9.99949989e-01, 6.51529293e-32],\n",
       "       [9.99999999e-01, 9.45325297e-10, 1.33290144e-78],\n",
       "       [1.00000000e+00, 6.49743430e-12, 7.70260328e-90],\n",
       "       [1.50617094e-52, 5.94123831e-27, 1.00000000e+00],\n",
       "       [3.77917160e-47, 9.99218112e-23, 1.00000000e+00],\n",
       "       [5.30598294e-33, 9.05195020e-13, 1.00000000e+00],\n",
       "       [6.63950534e-07, 9.99999336e-01, 1.42699786e-26],\n",
       "       [3.57244754e-61, 3.86494439e-34, 1.00000000e+00],\n",
       "       [9.70872284e-06, 9.99990291e-01, 5.02104511e-31],\n",
       "       [9.99982252e-01, 1.77477098e-05, 2.51366893e-63],\n",
       "       [3.93493321e-39, 5.51495730e-18, 1.00000000e+00],\n",
       "       [1.00000000e+00, 4.72574372e-11, 1.19906531e-79],\n",
       "       [1.19575291e-47, 3.45203067e-24, 1.00000000e+00],\n",
       "       [9.09245241e-01, 9.07547595e-02, 1.30885257e-46],\n",
       "       [9.99999997e-01, 2.64110663e-09, 3.37901343e-80],\n",
       "       [9.97572472e-01, 2.42752753e-03, 1.17514148e-55],\n",
       "       [1.12896485e-05, 9.99988710e-01, 3.59429638e-31],\n",
       "       [9.18841787e-06, 9.99990812e-01, 2.02077792e-29],\n",
       "       [4.87507189e-58, 6.38893442e-32, 1.00000000e+00]])"
      ]
     },
     "execution_count": 41,
     "metadata": {},
     "output_type": "execute_result"
    }
   ],
   "source": [
    "gaussian_nb_mc.predict_proba(X_test)"
   ]
  },
  {
   "cell_type": "markdown",
   "metadata": {},
   "source": [
    "## MultinomialNB"
   ]
  },
  {
   "cell_type": "code",
   "execution_count": 1,
   "metadata": {},
   "outputs": [],
   "source": [
    "class MultinomialNB(object):\n",
    "    def fit(self, X, y, alpha = 1.0):\n",
    "        n_samples, n_features = X.shape\n",
    "        self._classes = np.unique(y)\n",
    "        n_classes = len(self._classes)\n",
    "\n",
    "        self.w = np.zeros((n_classes, n_features), dtype=np.float64)\n",
    "        self.w_prior = np.zeros(n_classes, dtype=np.float64)\n",
    "\n",
    "        for idx, c in enumerate(n_classes):\n",
    "            X_c = X[y == c]\n",
    "\n",
    "            total_count = np.sum(X_c, axis=1)\n",
    "            self.w[idx, :] = (np.sum(X_c, axis=0) + alpha) / (total_count + alpha * n_features)\n",
    "\n",
    "            self.w_prior[idx] = (X_c.shape[0] + alpha) / float(n_samples + alpha * n_classes)\n",
    "\n",
    "    def log_likelihood_prior_prod(self, X):\n",
    "        return X @ (np.log(self.w).T) + np.log(self.w_prior) \n",
    "\n",
    "    def predict(self, X):\n",
    "        q = self.log_likelihood_prior_prod(X)\n",
    "        return np.argmax(q, axis = 1)\n",
    "\n",
    "    def predict_proba(self, X):\n",
    "        q = self.log_likelihood_prior_prod(X)\n",
    "        return np.exp(q) / np.expand_dims(np.sum(np.exp(q), axis = 1), axis = 1)"
   ]
  },
  {
   "cell_type": "code",
   "execution_count": null,
   "metadata": {},
   "outputs": [],
   "source": []
  }
 ],
 "metadata": {
  "interpreter": {
   "hash": "369f2c481f4da34e4445cda3fffd2e751bd1c4d706f27375911949ba6bb62e1c"
  },
  "kernelspec": {
   "display_name": "Python 3.10.2 64-bit",
   "language": "python",
   "name": "python3"
  },
  "language_info": {
   "codemirror_mode": {
    "name": "ipython",
    "version": 3
   },
   "file_extension": ".py",
   "mimetype": "text/x-python",
   "name": "python",
   "nbconvert_exporter": "python",
   "pygments_lexer": "ipython3",
   "version": "3.10.2"
  },
  "orig_nbformat": 4
 },
 "nbformat": 4,
 "nbformat_minor": 2
}
