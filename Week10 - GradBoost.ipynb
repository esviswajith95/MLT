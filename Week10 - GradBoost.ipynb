{
 "cells": [
  {
   "cell_type": "markdown",
   "metadata": {},
   "source": [
    "# Gradient Boosting"
   ]
  },
  {
   "cell_type": "markdown",
   "metadata": {},
   "source": [
    "## Steps\n",
    "1. Make a first guess for y_train and y_test, using average of y_train\n",
    "$$\n",
    "y_{train_{p_0}} = \\frac{1}{n} \\sum_{i=1}^n y_{train_{i}}  \\\\\n",
    "y_{test_{p_0}} = y_{train_{p_0}} \n",
    "$$\n",
    "2. Calculate the residuals from the training set\n",
    "$$\n",
    "r_0 = y_{train} - y_{train_{p_0}}\n",
    "$$\n",
    "3. Fit a week learner to the residuals minimizing the loss function. Let's call it $f_0$.\n",
    "$$\n",
    "r_0 = f_0(X_{train})\n",
    "$$\n",
    "4. Increment the predicted y's.\n",
    "$$\n",
    "y_{train_{p_1}} = y_{train_{p_0}} + \\alpha f_0(X_{train}) \\\\\n",
    "y_{test_{p_1}} = y_{test_{p_0}} + \\alpha f_0(X_{test}) \\\\\n",
    "$$\n",
    "$\\alpha$ is the learning rate.\n",
    "\n",
    "5. Repeat 2 to 4 until you reach the number of boosting rounds"
   ]
  },
  {
   "cell_type": "code",
   "execution_count": 1,
   "metadata": {},
   "outputs": [],
   "source": [
    "import numpy as np\n",
    "import pandas as pd\n",
    "import matplotlib.pyplot as plt\n",
    "import seaborn as sns"
   ]
  },
  {
   "cell_type": "code",
   "execution_count": 3,
   "metadata": {},
   "outputs": [],
   "source": [
    "def GradBoost(model, X_train, y_train, X_test, boosting_rounds, learning_rate: float = 0.1):\n",
    "    #make a first guess of our training target variable using the mean of y_train\n",
    "    y_hat_train = np.repeat(np.mean(y_train), len(y_train))\n",
    "\n",
    "    #Initiate the test prediction with the mean of the training target variable.\n",
    "    y_hat_test = np.repeat(np.mean(y_train), len(y_test))\n",
    "\n",
    "    #Calculate the residuals\n",
    "    residuals = y_train - y_hat_train\n",
    "\n",
    "    #Iterate through the boosting rounds\n",
    "    for i in range(boosting_rounds):\n",
    "        #Fit the model to the residuals\n",
    "        model = model.fit(X_train, residuals)\n",
    "\n",
    "        #Increment the predicted training y with the pseudoresidulas * learning rate\n",
    "        y_hat_train = y_hat_train + learning_rate * model.predict(X_train)\n",
    "\n",
    "        #Increment the predicted test y as well\n",
    "        y_hat_test = y_hat_test + learning_rate * model.predict(X_test)\n",
    "\n",
    "        #Calculate the residuals for the next round\n",
    "        residuals = y_train - y_hat_train\n",
    "\n",
    "    return y_hat_train, y_hat_test\n"
   ]
  },
  {
   "cell_type": "markdown",
   "metadata": {},
   "source": [
    "## Demonstration"
   ]
  },
  {
   "cell_type": "code",
   "execution_count": 5,
   "metadata": {},
   "outputs": [],
   "source": [
    "from sklearn.datasets import make_regression\n",
    "\n",
    "X, y = make_regression(n_samples = 1000,\n",
    "                        n_features = 20,\n",
    "                        n_informative = 15,\n",
    "                        n_targets = 1,\n",
    "                        bias = 0.0,\n",
    "                        noise = 20,\n",
    "                        shuffle = True,\n",
    "                        random_state = 13)\n",
    "\n",
    "X_train = X[0:800]\n",
    "y_train = y[0:800]\n",
    "\n",
    "X_test = X[800:]\n",
    "y_test = y[800:]"
   ]
  },
  {
   "cell_type": "code",
   "execution_count": 6,
   "metadata": {},
   "outputs": [],
   "source": [
    "from sklearn.tree import DecisionTreeRegressor\n",
    "\n",
    "model = DecisionTreeRegressor(criterion='squared_error', max_depth=3)"
   ]
  },
  {
   "cell_type": "code",
   "execution_count": 13,
   "metadata": {},
   "outputs": [
    {
     "name": "stdout",
     "output_type": "stream",
     "text": [
      "round #: 5, mse: 34533.86849419913\n",
      "round #: 10, mse: 25528.592361427367\n",
      "round #: 15, mse: 19136.599769132084\n",
      "round #: 20, mse: 14648.044507599256\n",
      "round #: 25, mse: 11459.06364248089\n",
      "round #: 30, mse: 9128.094374117594\n",
      "round #: 35, mse: 7310.768003762691\n",
      "round #: 40, mse: 5978.90406036746\n",
      "round #: 45, mse: 4945.0105504213625\n",
      "round #: 50, mse: 4114.202235579171\n",
      "round #: 55, mse: 3504.608724077598\n",
      "round #: 60, mse: 2986.8922224538755\n",
      "round #: 65, mse: 2592.205507526533\n",
      "round #: 70, mse: 2231.005500265884\n",
      "round #: 75, mse: 1942.7838152537684\n",
      "round #: 80, mse: 1721.5043747746472\n",
      "round #: 85, mse: 1538.2240733809201\n",
      "round #: 90, mse: 1386.3457437257232\n",
      "round #: 95, mse: 1240.7055168322297\n",
      "round #: 100, mse: 1117.8412308525265\n"
     ]
    }
   ],
   "source": [
    "mse_train = []\n",
    "n_rounds = np.arange(5, 101, 5)\n",
    "for n_round in n_rounds:\n",
    "    y_hat_train = GradBoost(model,\n",
    "                            X_train,\n",
    "                            y_train,\n",
    "                            X_test,\n",
    "                            boosting_rounds=n_round,\n",
    "                            learning_rate=0.1)[0]\n",
    "\n",
    "    mse_train.append(np.mean((y_train - y_hat_train) **2))\n",
    "    print(\"round #: {0}, mse: {1}\".format(n_round, mse_train[-1]))"
   ]
  },
  {
   "cell_type": "code",
   "execution_count": 15,
   "metadata": {},
   "outputs": [
    {
     "data": {
      "text/plain": [
       "Text(0, 0.5, 'Training Mean squared error')"
      ]
     },
     "execution_count": 15,
     "metadata": {},
     "output_type": "execute_result"
    },
    {
     "data": {
      "image/png": "[encoded data removed]",
      "text/plain": [
       "<Figure size 720x576 with 1 Axes>"
      ]
     },
     "metadata": {
      "needs_background": "light"
     },
     "output_type": "display_data"
    }
   ],
   "source": [
    "plt.figure(figsize=(10, 8))\n",
    "plt.plot(n_rounds, mse_train)\n",
    "plt.title(\"Training MSE vs Boosting Rounds\", fontsize=20)\n",
    "plt.xlabel('NUmber of Boosting rounds', fontsize=15)\n",
    "plt.ylabel('Training Mean squared error', fontsize=15)"
   ]
  },
  {
   "cell_type": "code",
   "execution_count": null,
   "metadata": {},
   "outputs": [],
   "source": []
  }
 ],
 "metadata": {
  "kernelspec": {
   "display_name": "Python 3.10.2 64-bit",
   "language": "python",
   "name": "python3"
  },
  "language_info": {
   "codemirror_mode": {
    "name": "ipython",
    "version": 3
   },
   "file_extension": ".py",
   "mimetype": "text/x-python",
   "name": "python",
   "nbconvert_exporter": "python",
   "pygments_lexer": "ipython3",
   "version": "3.10.2"
  },
  "orig_nbformat": 4,
  "vscode": {
   "interpreter": {
    "hash": "369f2c481f4da34e4445cda3fffd2e751bd1c4d706f27375911949ba6bb62e1c"
   }
  }
 },
 "nbformat": 4,
 "nbformat_minor": 2
}
